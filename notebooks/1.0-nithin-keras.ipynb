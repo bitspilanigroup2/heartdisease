{
 "cells": [
  {
   "cell_type": "code",
   "execution_count": 1,
   "metadata": {},
   "outputs": [
    {
     "name": "stdout",
     "output_type": "stream",
     "text": [
      "Tensorflow-version: 2.2.0\n"
     ]
    }
   ],
   "source": [
    "from __future__ import absolute_import, division, print_function, unicode_literals\n",
    "import os\n",
    "import numpy as np\n",
    "import pandas as pd\n",
    "from datetime import datetime\n",
    "import logging\n",
    "#from keras.layers import Dense\n",
    "import matplotlib.pyplot as plt\n",
    "import tensorflow as tf\n",
    "from tensorflow.python.keras.models import Sequential\n",
    "from tensorflow.python.keras.layers import Dense\n",
    "from tensorflow.python.keras.optimizers import Adam\n",
    "from sklearn.model_selection import train_test_split\n",
    "from sklearn.metrics import classification_report, accuracy_score\n",
    "logger = tf.get_logger()\n",
    "logging.basicConfig(\n",
    "    format=\"%(asctime)s %(levelname)-8s %(message)s\",\n",
    "    datefmt=\"%Y-%m-%dT%H:%M:%SZ\",\n",
    "    level=logging.INFO)\n",
    "print('Tensorflow-version: {0}'.format(tf.__version__))"
   ]
  },
  {
   "cell_type": "code",
   "execution_count": 2,
   "metadata": {},
   "outputs": [
    {
     "name": "stderr",
     "output_type": "stream",
     "text": [
      "2021-03-17T15:47:38Z INFO     Found credentials in shared credentials file: ~/.aws/credentials\n"
     ]
    }
   ],
   "source": [
    "data = pd.read_csv('s3://group2-code/heart.csv')"
   ]
  },
  {
   "cell_type": "code",
   "execution_count": 3,
   "metadata": {},
   "outputs": [
    {
     "data": {
      "text/html": [
       "<div>\n",
       "<style scoped>\n",
       "    .dataframe tbody tr th:only-of-type {\n",
       "        vertical-align: middle;\n",
       "    }\n",
       "\n",
       "    .dataframe tbody tr th {\n",
       "        vertical-align: top;\n",
       "    }\n",
       "\n",
       "    .dataframe thead th {\n",
       "        text-align: right;\n",
       "    }\n",
       "</style>\n",
       "<table border=\"1\" class=\"dataframe\">\n",
       "  <thead>\n",
       "    <tr style=\"text-align: right;\">\n",
       "      <th></th>\n",
       "      <th>age</th>\n",
       "      <th>sex</th>\n",
       "      <th>cp</th>\n",
       "      <th>trestbps</th>\n",
       "      <th>chol</th>\n",
       "      <th>fbs</th>\n",
       "      <th>restecg</th>\n",
       "      <th>thalach</th>\n",
       "      <th>exang</th>\n",
       "      <th>oldpeak</th>\n",
       "      <th>slope</th>\n",
       "      <th>ca</th>\n",
       "      <th>thal</th>\n",
       "      <th>target</th>\n",
       "    </tr>\n",
       "  </thead>\n",
       "  <tbody>\n",
       "    <tr>\n",
       "      <th>0</th>\n",
       "      <td>63</td>\n",
       "      <td>1</td>\n",
       "      <td>3</td>\n",
       "      <td>145</td>\n",
       "      <td>233</td>\n",
       "      <td>1</td>\n",
       "      <td>0</td>\n",
       "      <td>150</td>\n",
       "      <td>0</td>\n",
       "      <td>2.3</td>\n",
       "      <td>0</td>\n",
       "      <td>0</td>\n",
       "      <td>1</td>\n",
       "      <td>1</td>\n",
       "    </tr>\n",
       "    <tr>\n",
       "      <th>1</th>\n",
       "      <td>37</td>\n",
       "      <td>1</td>\n",
       "      <td>2</td>\n",
       "      <td>130</td>\n",
       "      <td>250</td>\n",
       "      <td>0</td>\n",
       "      <td>1</td>\n",
       "      <td>187</td>\n",
       "      <td>0</td>\n",
       "      <td>3.5</td>\n",
       "      <td>0</td>\n",
       "      <td>0</td>\n",
       "      <td>2</td>\n",
       "      <td>1</td>\n",
       "    </tr>\n",
       "    <tr>\n",
       "      <th>2</th>\n",
       "      <td>41</td>\n",
       "      <td>0</td>\n",
       "      <td>1</td>\n",
       "      <td>130</td>\n",
       "      <td>204</td>\n",
       "      <td>0</td>\n",
       "      <td>0</td>\n",
       "      <td>172</td>\n",
       "      <td>0</td>\n",
       "      <td>1.4</td>\n",
       "      <td>2</td>\n",
       "      <td>0</td>\n",
       "      <td>2</td>\n",
       "      <td>1</td>\n",
       "    </tr>\n",
       "    <tr>\n",
       "      <th>3</th>\n",
       "      <td>56</td>\n",
       "      <td>1</td>\n",
       "      <td>1</td>\n",
       "      <td>120</td>\n",
       "      <td>236</td>\n",
       "      <td>0</td>\n",
       "      <td>1</td>\n",
       "      <td>178</td>\n",
       "      <td>0</td>\n",
       "      <td>0.8</td>\n",
       "      <td>2</td>\n",
       "      <td>0</td>\n",
       "      <td>2</td>\n",
       "      <td>1</td>\n",
       "    </tr>\n",
       "    <tr>\n",
       "      <th>4</th>\n",
       "      <td>57</td>\n",
       "      <td>0</td>\n",
       "      <td>0</td>\n",
       "      <td>120</td>\n",
       "      <td>354</td>\n",
       "      <td>0</td>\n",
       "      <td>1</td>\n",
       "      <td>163</td>\n",
       "      <td>1</td>\n",
       "      <td>0.6</td>\n",
       "      <td>2</td>\n",
       "      <td>0</td>\n",
       "      <td>2</td>\n",
       "      <td>1</td>\n",
       "    </tr>\n",
       "  </tbody>\n",
       "</table>\n",
       "</div>"
      ],
      "text/plain": [
       "   age  sex  cp  trestbps  chol  fbs  restecg  thalach  exang  oldpeak  slope  \\\n",
       "0   63    1   3       145   233    1        0      150      0      2.3      0   \n",
       "1   37    1   2       130   250    0        1      187      0      3.5      0   \n",
       "2   41    0   1       130   204    0        0      172      0      1.4      2   \n",
       "3   56    1   1       120   236    0        1      178      0      0.8      2   \n",
       "4   57    0   0       120   354    0        1      163      1      0.6      2   \n",
       "\n",
       "   ca  thal  target  \n",
       "0   0     1       1  \n",
       "1   0     2       1  \n",
       "2   0     2       1  \n",
       "3   0     2       1  \n",
       "4   0     2       1  "
      ]
     },
     "execution_count": 3,
     "metadata": {},
     "output_type": "execute_result"
    }
   ],
   "source": [
    "data.head()"
   ]
  },
  {
   "cell_type": "code",
   "execution_count": 4,
   "metadata": {},
   "outputs": [
    {
     "name": "stdout",
     "output_type": "stream",
     "text": [
      "Train Features Size: (242, 13)\n",
      "Test Features Size: (61, 13)\n",
      "Train Labels Size: (242,)\n",
      "Test Labels Size: (61,)\n"
     ]
    }
   ],
   "source": [
    "# Separate them to [X, Y]. Where our target labels are 'Y', and 'X' is our training data.\n",
    "Y = data.target.values\n",
    "X = data.drop(['target'], axis=1)\n",
    "\n",
    "# Now split to train/test with 80% training data, and 20% test data.\n",
    "X_train, X_test, Y_train, Y_test = train_test_split(X, Y, test_size=0.2, random_state=42)\n",
    "\n",
    "# Check dimensions of both sets.\n",
    "print(\"Train Features Size:\", X_train.shape)\n",
    "print(\"Test Features Size:\", X_test.shape)\n",
    "print(\"Train Labels Size:\", Y_train.shape)\n",
    "print(\"Test Labels Size:\", Y_test.shape)"
   ]
  },
  {
   "cell_type": "code",
   "execution_count": 5,
   "metadata": {},
   "outputs": [],
   "source": [
    "# clear the logs\n",
    "!rm -rf logs/"
   ]
  },
  {
   "cell_type": "code",
   "execution_count": 6,
   "metadata": {},
   "outputs": [],
   "source": [
    "def NN_model(learning_rate):\n",
    "    model = Sequential()\n",
    "    model.add(Dense(32, input_dim=13, kernel_initializer='normal', activation='relu'))\n",
    "    model.add(Dense(16, kernel_initializer='normal', activation='relu'))\n",
    "    model.add(Dense(2, activation='softmax'))\n",
    "    Adam(lr=learning_rate)\n",
    "    model.compile(loss='sparse_categorical_crossentropy', optimizer='Adam', metrics=['accuracy'])\n",
    "    return model"
   ]
  },
  {
   "cell_type": "code",
   "execution_count": 7,
   "metadata": {},
   "outputs": [
    {
     "name": "stdout",
     "output_type": "stream",
     "text": [
      "Model: \"sequential\"\n",
      "_________________________________________________________________\n",
      "Layer (type)                 Output Shape              Param #   \n",
      "=================================================================\n",
      "dense (Dense)                (None, 32)                448       \n",
      "_________________________________________________________________\n",
      "dense_1 (Dense)              (None, 16)                528       \n",
      "_________________________________________________________________\n",
      "dense_2 (Dense)              (None, 2)                 34        \n",
      "=================================================================\n",
      "Total params: 1,010\n",
      "Trainable params: 1,010\n",
      "Non-trainable params: 0\n",
      "_________________________________________________________________\n",
      "None\n"
     ]
    }
   ],
   "source": [
    "# Build a NN-model, and start training\n",
    "learning_rate = 0.01\n",
    "model = NN_model(learning_rate)\n",
    "print(model.summary())"
   ]
  },
  {
   "cell_type": "code",
   "execution_count": 8,
   "metadata": {},
   "outputs": [],
   "source": [
    "def get_callbacks():\n",
    "    # callbacks \n",
    "    # folder to store current training logs\n",
    "    logdir=\"logs/fit/\" + datetime.now().strftime(\"%Y%m%d-%H%M%S\")\n",
    "    # print(logdir)\n",
    "    \n",
    "    class customLog(tf.keras.callbacks.Callback):\n",
    "        def on_epoch_end(self, epoch, logs={}):\n",
    "            logging.info('epoch: {}'.format(epoch + 1))\n",
    "            logging.info('loss={}'.format(logs['loss']))\n",
    "            logging.info('accuracy={}'.format(logs['accuracy']))\n",
    "            logging.info('val_accuracy={}'.format(logs['val_accuracy']))\n",
    "    callbacks = [\n",
    "        tf.keras.callbacks.TensorBoard(logdir),\n",
    "        customLog()\n",
    "    ]\n",
    "    return callbacks"
   ]
  },
  {
   "cell_type": "code",
   "execution_count": 9,
   "metadata": {},
   "outputs": [
    {
     "name": "stdout",
     "output_type": "stream",
     "text": [
      "Epoch 1/10\n"
     ]
    },
    {
     "name": "stderr",
     "output_type": "stream",
     "text": [
      "2021-03-17T15:47:46Z INFO     epoch: 1\n",
      "2021-03-17T15:47:46Z INFO     loss=1.2621265649795532\n",
      "2021-03-17T15:47:46Z INFO     accuracy=0.5082644820213318\n",
      "2021-03-17T15:47:46Z INFO     val_accuracy=0.44262295961380005\n"
     ]
    },
    {
     "name": "stdout",
     "output_type": "stream",
     "text": [
      "16/16 - 0s - loss: 1.2621 - accuracy: 0.5083 - val_loss: 0.6999 - val_accuracy: 0.4426\n"
     ]
    },
    {
     "name": "stderr",
     "output_type": "stream",
     "text": [
      "2021-03-17T15:47:46Z INFO     epoch: 2\n",
      "2021-03-17T15:47:46Z INFO     loss=0.7032216787338257\n",
      "2021-03-17T15:47:46Z INFO     accuracy=0.5289255976676941\n",
      "2021-03-17T15:47:46Z INFO     val_accuracy=0.5245901346206665\n"
     ]
    },
    {
     "name": "stdout",
     "output_type": "stream",
     "text": [
      "Epoch 2/10\n",
      "16/16 - 0s - loss: 0.7032 - accuracy: 0.5289 - val_loss: 0.6720 - val_accuracy: 0.5246\n",
      "Epoch 3/10\n"
     ]
    },
    {
     "name": "stderr",
     "output_type": "stream",
     "text": [
      "2021-03-17T15:47:46Z INFO     epoch: 3\n",
      "2021-03-17T15:47:47Z INFO     loss=0.6864278316497803\n",
      "2021-03-17T15:47:47Z INFO     accuracy=0.56611567735672\n",
      "2021-03-17T15:47:47Z INFO     val_accuracy=0.7868852615356445\n"
     ]
    },
    {
     "name": "stdout",
     "output_type": "stream",
     "text": [
      "16/16 - 0s - loss: 0.6864 - accuracy: 0.5661 - val_loss: 0.5887 - val_accuracy: 0.7869\n",
      "Epoch 4/10\n"
     ]
    },
    {
     "name": "stderr",
     "output_type": "stream",
     "text": [
      "2021-03-17T15:47:47Z INFO     epoch: 4\n",
      "2021-03-17T15:47:47Z INFO     loss=0.7012876868247986\n",
      "2021-03-17T15:47:47Z INFO     accuracy=0.5247933864593506\n",
      "2021-03-17T15:47:47Z INFO     val_accuracy=0.7540983557701111\n"
     ]
    },
    {
     "name": "stdout",
     "output_type": "stream",
     "text": [
      "16/16 - 0s - loss: 0.7013 - accuracy: 0.5248 - val_loss: 0.5866 - val_accuracy: 0.7541\n",
      "Epoch 5/10\n"
     ]
    },
    {
     "name": "stderr",
     "output_type": "stream",
     "text": [
      "2021-03-17T15:47:47Z INFO     epoch: 5\n",
      "2021-03-17T15:47:47Z INFO     loss=0.728105366230011\n",
      "2021-03-17T15:47:47Z INFO     accuracy=0.557851254940033\n",
      "2021-03-17T15:47:47Z INFO     val_accuracy=0.5409836173057556\n"
     ]
    },
    {
     "name": "stdout",
     "output_type": "stream",
     "text": [
      "16/16 - 0s - loss: 0.7281 - accuracy: 0.5579 - val_loss: 0.6441 - val_accuracy: 0.5410\n",
      "Epoch 6/10\n"
     ]
    },
    {
     "name": "stderr",
     "output_type": "stream",
     "text": [
      "2021-03-17T15:47:47Z INFO     epoch: 6\n",
      "2021-03-17T15:47:47Z INFO     loss=0.6236056089401245\n",
      "2021-03-17T15:47:47Z INFO     accuracy=0.6280992031097412\n",
      "2021-03-17T15:47:47Z INFO     val_accuracy=0.6557376980781555\n"
     ]
    },
    {
     "name": "stdout",
     "output_type": "stream",
     "text": [
      "16/16 - 0s - loss: 0.6236 - accuracy: 0.6281 - val_loss: 0.5544 - val_accuracy: 0.6557\n",
      "Epoch 7/10\n"
     ]
    },
    {
     "name": "stderr",
     "output_type": "stream",
     "text": [
      "2021-03-17T15:47:47Z INFO     epoch: 7\n",
      "2021-03-17T15:47:47Z INFO     loss=0.6029744148254395\n",
      "2021-03-17T15:47:47Z INFO     accuracy=0.6818181872367859\n",
      "2021-03-17T15:47:47Z INFO     val_accuracy=0.8524590134620667\n"
     ]
    },
    {
     "name": "stdout",
     "output_type": "stream",
     "text": [
      "16/16 - 0s - loss: 0.6030 - accuracy: 0.6818 - val_loss: 0.5169 - val_accuracy: 0.8525\n",
      "Epoch 8/10\n"
     ]
    },
    {
     "name": "stderr",
     "output_type": "stream",
     "text": [
      "2021-03-17T15:47:47Z INFO     epoch: 8\n",
      "2021-03-17T15:47:47Z INFO     loss=0.577215313911438\n",
      "2021-03-17T15:47:47Z INFO     accuracy=0.7148760557174683\n",
      "2021-03-17T15:47:47Z INFO     val_accuracy=0.8360655903816223\n"
     ]
    },
    {
     "name": "stdout",
     "output_type": "stream",
     "text": [
      "16/16 - 0s - loss: 0.5772 - accuracy: 0.7149 - val_loss: 0.5040 - val_accuracy: 0.8361\n",
      "Epoch 9/10\n"
     ]
    },
    {
     "name": "stderr",
     "output_type": "stream",
     "text": [
      "2021-03-17T15:47:48Z INFO     epoch: 9\n",
      "2021-03-17T15:47:48Z INFO     loss=0.641739547252655\n",
      "2021-03-17T15:47:48Z INFO     accuracy=0.5991735458374023\n",
      "2021-03-17T15:47:48Z INFO     val_accuracy=0.6557376980781555\n"
     ]
    },
    {
     "name": "stdout",
     "output_type": "stream",
     "text": [
      "16/16 - 0s - loss: 0.6417 - accuracy: 0.5992 - val_loss: 0.5467 - val_accuracy: 0.6557\n"
     ]
    },
    {
     "name": "stderr",
     "output_type": "stream",
     "text": [
      "2021-03-17T15:47:48Z INFO     epoch: 10\n",
      "2021-03-17T15:47:48Z INFO     loss=0.5640291571617126\n",
      "2021-03-17T15:47:48Z INFO     accuracy=0.7190082669258118\n",
      "2021-03-17T15:47:48Z INFO     val_accuracy=0.8852459192276001\n"
     ]
    },
    {
     "name": "stdout",
     "output_type": "stream",
     "text": [
      "Epoch 10/10\n",
      "16/16 - 0s - loss: 0.5640 - accuracy: 0.7190 - val_loss: 0.4860 - val_accuracy: 0.8852\n"
     ]
    }
   ],
   "source": [
    "history = model.fit(X_train, Y_train, validation_data=(X_test, Y_test), epochs=10, batch_size=16, verbose=2, callbacks=get_callbacks())"
   ]
  },
  {
   "cell_type": "code",
   "execution_count": 10,
   "metadata": {},
   "outputs": [
    {
     "name": "stdout",
     "output_type": "stream",
     "text": [
      "Model Accracy: 88.52459016393442 %\n",
      "              precision    recall  f1-score   support\n",
      "\n",
      "           0       0.87      0.90      0.88        29\n",
      "           1       0.90      0.88      0.89        32\n",
      "\n",
      "    accuracy                           0.89        61\n",
      "   macro avg       0.88      0.89      0.89        61\n",
      "weighted avg       0.89      0.89      0.89        61\n",
      "\n"
     ]
    }
   ],
   "source": [
    "predictions = np.argmax(model.predict(X_test), axis=1)\n",
    "model_accuracy = accuracy_score(Y_test, predictions)*100\n",
    "print(\"Model Accracy:\", model_accuracy,\"%\")\n",
    "print(classification_report(Y_test, predictions))"
   ]
  },
  {
   "cell_type": "markdown",
   "metadata": {},
   "source": [
    "Tensorboard\n",
    "Note : If you want to use Tensorboard : use tensorboard command and run from the terminal ( from notebook home page -> new -> terminal )\n",
    "\n",
    "tensorboard --logdir=/home/jovyan/logs/ --bind_all\n",
    "if you are running inside a container you can use port-mapping. if you are running inside kubernetes pod, then use the pod port-forward feature on the port 6006 (default for tensorboard, change it as per the tensorboard command output ). When a notebook is created, a pod with name <NOTEBOOK_NAME>-0 is created in the users namespace. So you can use the port-forward to access tensorboard.\n",
    "\n",
    "kubectl port-forward -n <NAMESPACE> <NOTEBOOK_NAME>-0 6006:6006\n",
    "kubectl -n bitspilanigroup2 port-forward my-nb-3-0 6006:6006"
   ]
  },
  {
   "cell_type": "code",
   "execution_count": 11,
   "metadata": {},
   "outputs": [
    {
     "name": "stdout",
     "output_type": "stream",
     "text": [
      "END OF NOTEBOOK\n"
     ]
    }
   ],
   "source": [
    "print('END OF NOTEBOOK')"
   ]
  }
 ],
 "metadata": {
  "kernelspec": {
   "display_name": "Python 3",
   "language": "python",
   "name": "python3"
  },
  "language_info": {
   "codemirror_mode": {
    "name": "ipython",
    "version": 3
   },
   "file_extension": ".py",
   "mimetype": "text/x-python",
   "name": "python",
   "nbconvert_exporter": "python",
   "pygments_lexer": "ipython3",
   "version": "3.8.5"
  }
 },
 "nbformat": 4,
 "nbformat_minor": 4
}
